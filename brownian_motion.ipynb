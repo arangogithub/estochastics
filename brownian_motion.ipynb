{
 "cells": [
  {
   "cell_type": "markdown",
   "metadata": {},
   "source": [
    "# Brownian motion"
   ]
  },
  {
   "cell_type": "code",
   "execution_count": 1,
   "metadata": {},
   "outputs": [
    {
     "name": "stdout",
     "output_type": "stream",
     "text": [
      "Using matplotlib backend: TkAgg\n"
     ]
    }
   ],
   "source": [
    "import numpy as np\n",
    "import matplotlib.pyplot as plt\n",
    "import cmath\n",
    "from matplotlib import cm\n",
    "import random\n",
    "import pickle\n",
    "np.random.seed(1234)\n",
    "%matplotlib"
   ]
  },
  {
   "cell_type": "code",
   "execution_count": 2,
   "metadata": {},
   "outputs": [],
   "source": [
    " headTail = [-1,1]\n",
    " bmt = lambda n: np.cumsum(random.choices(headTail, k=n))    "
   ]
  },
  {
   "cell_type": "markdown",
   "metadata": {},
   "source": [
    "## Brownian motion in time"
   ]
  },
  {
   "cell_type": "code",
   "execution_count": 3,
   "metadata": {},
   "outputs": [],
   "source": [
    "n = 10000   \n",
    "jump = 0.01\n",
    "time_step = jump**2"
   ]
  },
  {
   "cell_type": "code",
   "execution_count": 10,
   "metadata": {},
   "outputs": [],
   "source": [
    "time_BM = time_step*np.arange(n)\n",
    "reach_BM = jump*bmt(n)"
   ]
  },
  {
   "cell_type": "code",
   "execution_count": 11,
   "metadata": {},
   "outputs": [],
   "source": [
    "plt.plot(time_BM, reach_BM , color=\"red\", lw=1.0, )\n",
    "plt.title(\"BM-time\")\n",
    "plt.xlabel(\"time\")\n",
    "plt.ylabel(\"reach\")\n",
    "plt.show()"
   ]
  },
  {
   "cell_type": "markdown",
   "metadata": {},
   "source": [
    "## BM distribution for fixed time $t = 1$"
   ]
  },
  {
   "cell_type": "code",
   "execution_count": 12,
   "metadata": {},
   "outputs": [],
   "source": [
    "bm_tfixed = lambda n:  sum(random.choices(headTail, k=n))    "
   ]
  },
  {
   "cell_type": "code",
   "execution_count": 13,
   "metadata": {},
   "outputs": [],
   "source": [
    "m = 5000 \n",
    "samples = jump*np.array([bm_tfixed(n)  for j in range(m)] )"
   ]
  },
  {
   "cell_type": "code",
   "execution_count": 14,
   "metadata": {},
   "outputs": [],
   "source": [
    "from scipy import stats\n",
    "xmin, xmax = -3,3\n",
    "x = np.linspace(xmin, xmax,100)\n",
    "y = stats.norm.pdf(x, loc=0.0, scale=np.sqrt(1))"
   ]
  },
  {
   "cell_type": "code",
   "execution_count": 15,
   "metadata": {},
   "outputs": [],
   "source": [
    "plt.hist(samples, bins=90,  color ='r',alpha=0.5, density=True )\n",
    "plt.plot(x,y, color=\"black\", lw=1.9, label=\"pdf normal distribution ($\\mu = 0,$ $\\sigma= \\sqrt{1}$)\")\n",
    "plt.title(\"Histogram: final positions of BM  lasting 1 unit of time\")\n",
    "plt.xlabel(\"dist\")\n",
    "plt.ylabel(\"density\")\n",
    "plt.legend(loc='upper left')\n",
    "plt.show()"
   ]
  },
  {
   "cell_type": "markdown",
   "metadata": {},
   "source": [
    "## White noise in time"
   ]
  },
  {
   "cell_type": "code",
   "execution_count": 16,
   "metadata": {},
   "outputs": [],
   "source": [
    "n = 1000000   \n",
    "jump = 0.01\n",
    "time_step = jump**3"
   ]
  },
  {
   "cell_type": "code",
   "execution_count": 17,
   "metadata": {},
   "outputs": [],
   "source": [
    "time_WN = time_step*np.arange(n)\n",
    "reach_WN = jump*bmt(n)"
   ]
  },
  {
   "cell_type": "code",
   "execution_count": 18,
   "metadata": {},
   "outputs": [],
   "source": [
    "plt.plot(time_BM, reach_BM , color=\"red\", lw=1.0, )\n",
    "plt.plot(time_WN, reach_WN , color=\"k\", lw=1.0, )\n",
    "plt.title(\"WN-time\")\n",
    "plt.xlabel(\"time\")\n",
    "plt.ylabel(\"reach WN\")\n",
    "plt.show()"
   ]
  },
  {
   "cell_type": "markdown",
   "metadata": {},
   "source": [
    "## WN distribution for fixed $t=1$"
   ]
  },
  {
   "cell_type": "code",
   "execution_count": null,
   "metadata": {},
   "outputs": [],
   "source": [
    "m = 5000 \n",
    "samples = jump*np.array([bm_tfixed(n)  for j in range(m)] )"
   ]
  },
  {
   "cell_type": "code",
   "execution_count": null,
   "metadata": {},
   "outputs": [],
   "source": [
    "#filename = 'wnDistribution.pickle'\n",
    "#outfile = open(filename,'wb')\n",
    "#pickle.dump(samples,outfile)\n",
    "#outfile.close()"
   ]
  },
  {
   "cell_type": "code",
   "execution_count": 19,
   "metadata": {},
   "outputs": [],
   "source": [
    "filename = 'wnDistribution.pickle'\n",
    "infile = open(filename,'rb')\n",
    "smpl = pickle.load(infile)\n",
    "infile.close()"
   ]
  },
  {
   "cell_type": "code",
   "execution_count": 20,
   "metadata": {},
   "outputs": [],
   "source": [
    "xmin, xmax = -40 ,40\n",
    "x = np.linspace(xmin, xmax,100)\n",
    "scl = 1/(0.04*(np.sqrt(2*np.pi)))\n",
    "y = stats.norm.pdf(x, loc=0.0, scale= scl)"
   ]
  },
  {
   "cell_type": "code",
   "execution_count": 34,
   "metadata": {},
   "outputs": [
    {
     "name": "stdout",
     "output_type": "stream",
     "text": [
      "      9.97\n"
     ]
    }
   ],
   "source": [
    "print(f\"{scl:10.2f}\")"
   ]
  },
  {
   "cell_type": "code",
   "execution_count": 21,
   "metadata": {},
   "outputs": [],
   "source": [
    "fig = plt.figure(figsize=(10, 3), dpi=100)\n",
    "ax = fig.add_subplot(1, 1, 1)\n",
    "ax.hist(smpl, bins=90,  color ='r',alpha=0.5, density=True )\n",
    "ax.plot(x,y, color=\"black\", lw=1.9,\\\n",
    "        label=\"pdf normal distribution ($\\mu = 0,$ $\\sigma=$\" f\"{scl:1.2f})\" )\n",
    "plt.title(\"Histogram: final positions of WN  lasting 1 unit of time\")\n",
    "plt.xlabel(\"dist\")\n",
    "plt.ylabel(\"density\")\n",
    "plt.legend(loc='upper left')\n",
    "plt.show()"
   ]
  },
  {
   "cell_type": "code",
   "execution_count": null,
   "metadata": {},
   "outputs": [],
   "source": []
  }
 ],
 "metadata": {
  "kernelspec": {
   "display_name": "Python 3",
   "language": "python",
   "name": "python3"
  },
  "language_info": {
   "codemirror_mode": {
    "name": "ipython",
    "version": 3
   },
   "file_extension": ".py",
   "mimetype": "text/x-python",
   "name": "python",
   "nbconvert_exporter": "python",
   "pygments_lexer": "ipython3",
   "version": "3.8.5"
  }
 },
 "nbformat": 4,
 "nbformat_minor": 1
}
